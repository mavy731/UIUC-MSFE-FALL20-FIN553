{
  "nbformat": 4,
  "nbformat_minor": 0,
  "metadata": {
    "colab": {
      "name": "Untitled0.ipynb",
      "provenance": [],
      "collapsed_sections": [],
      "authorship_tag": "ABX9TyNj2cbTxijteo9CNOns2F7z",
      "include_colab_link": true
    },
    "kernelspec": {
      "name": "python3",
      "display_name": "Python 3"
    }
  },
  "cells": [
    {
      "cell_type": "markdown",
      "metadata": {
        "id": "view-in-github",
        "colab_type": "text"
      },
      "source": [
        "<a href=\"https://colab.research.google.com/github/mavy731/UIUC-MSFE-FALL20-FIN553/blob/main/Assignment1_Part1.ipynb\" target=\"_parent\"><img src=\"https://colab.research.google.com/assets/colab-badge.svg\" alt=\"Open In Colab\"/></a>"
      ]
    },
    {
      "cell_type": "code",
      "metadata": {
        "id": "XUhFsHhFhJdf"
      },
      "source": [
        "import tensorflow as tf\n",
        "import matplotlib.pyplot as plt\n",
        "import numpy as np\n",
        "\n",
        "Spot = 36   # stock price\n",
        "σ = 0.2     # stock volatility\n",
        "K = 40      # strike price\n",
        "r = 0.06    # risk free rate\n",
        "n = 100000  # Number of simualted paths\n",
        "m = 50      # number of exercise dates\n",
        "T = 1       # maturity\n",
        "order = 6   # Polynmial order\n",
        "Δt = T / m  # interval between two exercise dates"
      ],
      "execution_count": 24,
      "outputs": []
    },
    {
      "cell_type": "code",
      "metadata": {
        "id": "NaSkddSChd_3"
      },
      "source": [
        "def one_hot(array, depth):\n",
        "    return tf.eye(depth)[array]\n",
        "\n",
        "#Scale x\n",
        "def scale(x):\n",
        "    x_scale=(x-tf.math.reduce_min(x,axis=0))/(tf.math.reduce_max(x,axis=0)-tf.math.reduce_min(x,axis=0))\n",
        "    return x_scale\n",
        "\n",
        "# recursive formulation\n",
        "def chebyshev_basis(x, k):\n",
        "    B=tf.stack([tf.ones([n],dtype=tf.float32),x],1)\n",
        "    for i in range(2, k):\n",
        "        Bn=2*S0*B[::,i-1]-B[::,i-2]\n",
        "        Bn=tf.expand_dims(Bn,1)\n",
        "        B=tf.concat([B,Bn],1)\n",
        "    return B\n",
        "\n",
        "# simulates the stock price evolution\n",
        "def advance(S, r, σ, Δt, n):\n",
        "    dB = tf.sqrt(Δt) * tf.random.normal([n])\n",
        "    out = S + r * S * Δt + σ * S * dB\n",
        "    return out"
      ],
      "execution_count": 25,
      "outputs": []
    },
    {
      "cell_type": "code",
      "metadata": {
        "id": "QxEPv4EBrgrH"
      },
      "source": [
        "tf.random.set_seed(0)\n",
        "S0 = Spot * tf.ones([n],dtype=tf.float32)\n",
        "S = {0: S0}\n",
        "\n",
        "for t in range(m):\n",
        "   S[t + 1] = advance(S[t], r, σ, Δt, n)\n",
        "\n",
        "discount = tf.exp(-r * Δt)\n",
        "CFL = {t: tf.maximum(0., K - S[t]) for t in S.keys()}\n",
        "value_tp1 = CFL[m] * discount\n",
        "CV = {m: tf.ones([n],dtype=tf.float32)}"
      ],
      "execution_count": 26,
      "outputs": []
    },
    {
      "cell_type": "code",
      "metadata": {
        "colab": {
          "base_uri": "https://localhost:8080/"
        },
        "id": "vBByKrANPabt",
        "outputId": "417b6630-76fa-4032-aa6f-e52aee57db87"
      },
      "source": [
        "X=chebyshev_basis(scale(S[49]), order)\n",
        "Y= tf.expand_dims(value_tp1,1)\n",
        "rhs=tf.transpose(X) @ Y\n",
        "matrix=tf.transpose(X) @ X\n",
        "Θ =tf.linalg.solve(matrix, rhs)\n",
        "CV[49]=tf.reshape(X @ Θ,[-1,])\n",
        "exercise = CFL[49] > CV[49]\n",
        "value_t = tf.where(exercise, CFL[49], value_tp1)\n",
        "print(value_t)"
      ],
      "execution_count": 22,
      "outputs": [
        {
          "output_type": "stream",
          "text": [
            "tf.Tensor([6.2191825 0.        8.81735   ... 5.3614364 0.        0.       ], shape=(100000,), dtype=float32)\n"
          ],
          "name": "stdout"
        }
      ]
    },
    {
      "cell_type": "code",
      "metadata": {
        "id": "1efLBlo6PTZh"
      },
      "source": [
        "for t in range(m - 1, 0, -1):\n",
        "  X=chebyshev_basis(scale(S[t]), order)\n",
        "  Y= tf.expand_dims(value_tp1,1)\n",
        "  rhs=tf.transpose(X) @ Y\n",
        "  matrix=tf.transpose(X) @ X\n",
        "  Θ =tf.linalg.solve(matrix, rhs)\n",
        "  CV[t] = tf.reshape(X @ Θ,[-1,])\n",
        "  exercise = CFL[t] > CV[t]\n",
        "  value_t = tf.where(exercise, CFL[t], value_tp1)\n",
        "  value_tp1 = discount * value_t"
      ],
      "execution_count": 28,
      "outputs": []
    },
    {
      "cell_type": "code",
      "metadata": {
        "id": "J1tjeYaoLKj6"
      },
      "source": [
        "POF = {t: tf.where(CV[t] < CFL[t], CFL[t], 0) for t in range(1, m + 1)}"
      ],
      "execution_count": 30,
      "outputs": []
    },
    {
      "cell_type": "code",
      "metadata": {
        "id": "0Y5RlRuoJUJY"
      },
      "source": [
        "POF = {t: tf.where(CV[t] < CFL[t], CFL[t], 0) for t in range(1, m + 1)}\n",
        "POF = np.vstack(POF.values())\n",
        "idx_payoffs = tf.argmax(POF > 0, axis=0)\n",
        "FPOF = one_hot(idx_payoffs, m).T * POF\n",
        "m_range = tf.array(range(0, m)).reshape(-1, 1)\n",
        "dFPOF = FPOF * tf.exp(-r * m_range * Δt)\n",
        "PRICE = dFPOF.sum() / n"
      ],
      "execution_count": 5,
      "outputs": []
    },
    {
      "cell_type": "code",
      "metadata": {
        "id": "_Tx16uxQhxPg"
      },
      "source": [
        "# LSMC algorithm\n",
        "def compute_price(order, Spot, σ, K, r):\n",
        "    tf.random.set_seed(0)\n",
        "    S0 = Spot * tf.ones([n],dtype=tf.float32)\n",
        "    S = {0: S0}\n",
        "\n",
        "    for t in range(m):\n",
        "        S[t + 1] = advance(S[t], r, σ, Δt, n)\n",
        "\n",
        "    discount = tf.exp(-r * Δt)\n",
        "    CFL = {t: tf.maximum(0., K - S[t]) for t in S.keys()}\n",
        "    value_tp1 = CFL[m] * discount\n",
        "    CV = {m: tf.zeros_like(S0)}\n",
        "\n",
        "    for t in range(m - 1, 0, -1):\n",
        "        X = chebyshev_basis(scale(S[t]), order)\n",
        "        Y = value_tp1\n",
        "        # regression to estimate the continuation value\n",
        "        Θ = tf.linalg.solve(X.T @ X, X.T @ Y)\n",
        "        CV[t] = X @ Θ\n",
        "        exercise = CFL[t] > CV[t]\n",
        "        value_t = tf.where(exercise, CFL[t], value_tp1)\n",
        "        value_tp1 = discount * value_t\n",
        "\n",
        "  \n",
        "    POF = {t: tf.where(CV[t] < CFL[t], CFL[t], 0) for t in range(1, m + 1)}\n",
        "    POF = np.vstack(POF.values())\n",
        "    idx_payoffs = tf.argmax(POF > 0, axis=0)\n",
        "    FPOF = one_hot(idx_payoffs, m).T * POF\n",
        "    m_range = tf.array(range(0, m)).reshape(-1, 1)\n",
        "    dFPOF = FPOF * tf.exp(-r * m_range * Δt)\n",
        "    PRICE = dFPOF.sum() / n\n",
        "    return PRICE\n",
        "\n",
        "print(compute_price(order, Spot, σ, K, r))\n",
        "test = compute_price(order, Spot, σ, K, r)"
      ],
      "execution_count": null,
      "outputs": []
    }
  ]
}