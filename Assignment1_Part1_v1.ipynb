{
  "nbformat": 4,
  "nbformat_minor": 0,
  "metadata": {
    "colab": {
      "name": "Untitled0.ipynb",
      "provenance": [],
      "collapsed_sections": [],
      "authorship_tag": "ABX9TyP6GvYRd5J6ceYFUGDdAS0c",
      "include_colab_link": true
    },
    "kernelspec": {
      "name": "python3",
      "display_name": "Python 3"
    }
  },
  "cells": [
    {
      "cell_type": "markdown",
      "metadata": {
        "id": "view-in-github",
        "colab_type": "text"
      },
      "source": [
        "<a href=\"https://colab.research.google.com/github/mavy731/UIUC-MSFE-FALL20-FIN553/blob/main/Assignment1_Part1_v1.ipynb\" target=\"_parent\"><img src=\"https://colab.research.google.com/assets/colab-badge.svg\" alt=\"Open In Colab\"/></a>"
      ]
    },
    {
      "cell_type": "code",
      "metadata": {
        "id": "XUhFsHhFhJdf"
      },
      "source": [
        "import tensorflow as tf\n",
        "\n",
        "Spot = 36   # stock price\n",
        "σ = 0.2     # stock volatility\n",
        "K = 40      # strike price\n",
        "r = 0.06    # risk free rate\n",
        "n = 100000  # Number of simualted paths\n",
        "m = 50      # number of exercise dates\n",
        "T = 1       # maturity\n",
        "order = 6   # Polynmial order\n",
        "Δt = T / m  # interval between two exercise dates"
      ],
      "execution_count": 81,
      "outputs": []
    },
    {
      "cell_type": "code",
      "metadata": {
        "id": "NaSkddSChd_3"
      },
      "source": [
        "#Scale x\n",
        "def scale(x):\n",
        "    x_scale=(x-tf.math.reduce_min(x,axis=0))/(tf.math.reduce_max(x,axis=0)-tf.math.reduce_min(x,axis=0))\n",
        "    return x_scale\n",
        "\n",
        "# recursive formulation\n",
        "def chebyshev_basis(x, k):\n",
        "    B=tf.stack([tf.ones([n],dtype=tf.float32),x],1)\n",
        "    for i in range(2, k):\n",
        "        Bn=2*S0*B[::,i-1]-B[::,i-2]\n",
        "        Bn=tf.expand_dims(Bn,1)\n",
        "        B=tf.concat([B,Bn],1)\n",
        "    return B\n",
        "\n",
        "# simulates the stock price evolution\n",
        "def advance(S, r, σ, Δt, n):\n",
        "    dB = tf.sqrt(Δt) * tf.random.normal([n])\n",
        "    out = S + r * S * Δt + σ * S * dB\n",
        "    return out"
      ],
      "execution_count": 82,
      "outputs": []
    },
    {
      "cell_type": "code",
      "metadata": {
        "colab": {
          "base_uri": "https://localhost:8080/"
        },
        "id": "5vggmx-aZdJm",
        "outputId": "6031be58-1dac-4557-ea17-2e43c7b82705"
      },
      "source": [
        "def compute_price(order, Spot, σ, K, r):\n",
        "  tf.random.set_seed(0)\n",
        "  S0 = Spot * tf.ones([n],dtype=tf.float32)\n",
        "  S = {0: S0}\n",
        "\n",
        "  for t in range(m):\n",
        "    S[t + 1] = advance(S[t], r, σ, Δt, n)\n",
        "\n",
        "  discount = tf.exp(-r * Δt)\n",
        "  CFL = {t: tf.maximum(0., K - S[t]) for t in S.keys()}\n",
        "  value_tp1 = CFL[m] * discount\n",
        "  CV = {m: tf.ones([n],dtype=tf.float32)}\n",
        "\n",
        "  for t in range(m - 1, 0, -1):\n",
        "    X=chebyshev_basis(scale(S[t]), order)\n",
        "    Y= tf.expand_dims(value_tp1,1)\n",
        "    rhs=tf.transpose(X) @ Y\n",
        "    matrix=tf.transpose(X) @ X\n",
        "    Θ =tf.linalg.solve(matrix, rhs)\n",
        "    CV[t] = tf.reshape(X @ Θ,[-1,])\n",
        "    exercise = CFL[t] > CV[t]\n",
        "    value_t = tf.where(exercise, CFL[t], value_tp1)\n",
        "    value_tp1 = discount * value_t\n",
        "\n",
        "  POF = {t: tf.where(CV[t] < CFL[t], CFL[t], 0) for t in range(1, m + 1)}\n",
        "  POF=tf.stack(list(POF.values()), axis=0)\n",
        "  idx_payoffs = tf.argmax(POF > 0, axis=0)\n",
        "  FPOF = tf.transpose(tf.one_hot(idx_payoffs, m)) * POF\n",
        "  m_range = tf.reshape(tf.constant(range(0, m),dtype=tf.float32),[-1,1])\n",
        "  dFPOF = FPOF * tf.exp(-r * m_range * Δt)\n",
        "  PRICE = tf.math.reduce_sum(dFPOF)/ n\n",
        "  \n",
        "  return PRICE\n",
        "\n",
        "print(compute_price(order, Spot, σ, K, r))\n",
        "test = compute_price(order, Spot, σ, K, r)"
      ],
      "execution_count": 83,
      "outputs": [
        {
          "output_type": "stream",
          "text": [
            "tf.Tensor(4.44607, shape=(), dtype=float32)\n"
          ],
          "name": "stdout"
        }
      ]
    }
  ]
}