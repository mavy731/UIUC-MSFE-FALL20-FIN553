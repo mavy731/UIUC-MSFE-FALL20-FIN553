{
  "nbformat": 4,
  "nbformat_minor": 0,
  "metadata": {
    "colab": {
      "name": "LSMC - Template TF code.ipynb",
      "provenance": [],
      "collapsed_sections": [],
      "include_colab_link": true
    },
    "kernelspec": {
      "name": "python3",
      "display_name": "Python 3"
    }
  },
  "cells": [
    {
      "cell_type": "markdown",
      "metadata": {
        "id": "view-in-github",
        "colab_type": "text"
      },
      "source": [
        "<a href=\"https://colab.research.google.com/github/mavy731/UIUC-MSFE-FALL20-FIN553/blob/main/Assignment1_Part2.ipynb\" target=\"_parent\"><img src=\"https://colab.research.google.com/assets/colab-badge.svg\" alt=\"Open In Colab\"/></a>"
      ]
    },
    {
      "cell_type": "code",
      "metadata": {
        "id": "RSQHYb38eI_6"
      },
      "source": [
        "import tensorflow as tf\n",
        "\n",
        "Spot = 36   # stock price\n",
        "σ = 0.2     # stock volatility\n",
        "K = 40      # strike price\n",
        "r = 0.06    # risk free rate\n",
        "n = 20000  # Number of simualted paths\n",
        "m = 50      # number of exercise dates\n",
        "T = 1       # maturity\n",
        "order = 6   # Polynmial order\n",
        "Δt = T / m  # interval between two exercise dates\n",
        "\n",
        "\n",
        "def create_polynomials():\n",
        "    model = tf.keras.Sequential([tf.keras.layers.Dense(1)])\n",
        "    return model\n",
        "\n",
        "\n",
        "networks = {t: create_polynomials() for t in range(1, m)}\n",
        "\n",
        "\n",
        "# simulates the stock price evolution\n",
        "def advance(S, r, σ, Δt, n):\n",
        "    dB = tf.sqrt(Δt) * tf.random.normal([n])\n",
        "    out = S + r * S * Δt + σ * S * dB\n",
        "    return out\n",
        "\n",
        "optimizer = tf.keras.optimizers.SGD(learning_rate=0.1)\n",
        "\n",
        "# LSMC algorithm\n",
        "\n",
        "tf.random.set_seed(0)\n",
        "S0 = Spot * tf.ones([n],dtype=tf.float32)\n",
        "S = {0: S0}\n",
        "\n",
        "for t in range(m):\n",
        "  S[t + 1] = advance(S[t], r, σ, Δt, n)\n",
        "\n",
        "discount = tf.exp(-r * Δt)\n",
        "CFL = {t: tf.maximum(0., K - S[t]) for t in range(m + 1)}\n",
        "value_tp1 = CFL[m] * discount\n",
        "CV = {m: tf.zeros_like(S[0])}\n",
        "\n",
        "for t in range(m - 1, 0, -1):\n",
        "  f=networks[t]\n",
        "  f.compile(loss='mse',optimizer=optimizer)\n",
        "  f.fit(S[t],value_tp1,epochs=1)\n",
        "  CV[t]=f(S[t])\n",
        "  value_t = tf.where(CFL[t] > CV[t], CFL[t], value_tp1)\n",
        "  value_tp1 = discount * value_t\n",
        "\n",
        "POF = {t: tf.where(CV[t] < CFL[t], CFL[t], 0) for t in range(1, m + 1)}\n",
        "POF=tf.stack(list(POF.values()), axis=0)\n",
        "idx_payoffs = tf.argmax(POF > 0, axis=0)\n",
        "FPOF = tf.transpose(tf.one_hot(idx_payoffs, m)) * POF\n",
        "m_range = tf.reshape(tf.constant(range(0, m),dtype=tf.float32),[-1,1])\n",
        "dFPOF = FPOF * tf.exp(-r * m_range * Δt)\n",
        "PRICE = tf.math.reduce_sum(dFPOF)/ n\n",
        "\n"
      ],
      "execution_count": null,
      "outputs": []
    },
    {
      "cell_type": "code",
      "metadata": {
        "id": "kdY7ZnBqoNOf"
      },
      "source": [
        "print(PRICE)"
      ],
      "execution_count": null,
      "outputs": []
    }
  ]
}